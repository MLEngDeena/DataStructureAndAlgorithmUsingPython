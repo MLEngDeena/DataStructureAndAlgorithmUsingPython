{
  "nbformat": 4,
  "nbformat_minor": 0,
  "metadata": {
    "colab": {
      "name": "Two Dimensional Array.ipynb",
      "provenance": [],
      "authorship_tag": "ABX9TyMvo4aBY2K/O1du3LLnqw45",
      "include_colab_link": true
    },
    "kernelspec": {
      "name": "python3",
      "display_name": "Python 3"
    },
    "language_info": {
      "name": "python"
    }
  },
  "cells": [
    {
      "cell_type": "markdown",
      "metadata": {
        "id": "view-in-github",
        "colab_type": "text"
      },
      "source": [
        "<a href=\"https://colab.research.google.com/github/MLEngDeena/DataStructureAndAlgorithmUsingPython/blob/main/Two_Dimensional_Array.ipynb\" target=\"_parent\"><img src=\"https://colab.research.google.com/assets/colab-badge.svg\" alt=\"Open In Colab\"/></a>"
      ]
    },
    {
      "cell_type": "code",
      "execution_count": 1,
      "metadata": {
        "colab": {
          "base_uri": "https://localhost:8080/"
        },
        "id": "t8lEdQZ8KCkJ",
        "outputId": "7d672054-9de8-4e54-b150-f11f8f168a9c"
      },
      "outputs": [
        {
          "output_type": "stream",
          "name": "stdout",
          "text": [
            "[[11 15 10  6]\n",
            " [10 14 11  5]\n",
            " [12 17 12  8]\n",
            " [15 18 14  9]]\n"
          ]
        }
      ],
      "source": [
        "import numpy as np\n",
        "\n",
        "TwoDArray = np.array ([[11,15,10,6],[10,14,11,5],[12,17,12,8],[15,18,14,9]])\n",
        "print(TwoDArray)"
      ]
    },
    {
      "cell_type": "code",
      "source": [
        "newTwoDArray = np.insert (TwoDArray , 1 , [[1,2,3,4]] , axis = 0)\n",
        "print(newTwoDArray)"
      ],
      "metadata": {
        "colab": {
          "base_uri": "https://localhost:8080/"
        },
        "id": "8HFuxOZ2Kh5Q",
        "outputId": "f1cb10d9-91da-42e2-e98f-72da2247fd3f"
      },
      "execution_count": 3,
      "outputs": [
        {
          "output_type": "stream",
          "name": "stdout",
          "text": [
            "[[11 15 10  6]\n",
            " [ 1  2  3  4]\n",
            " [10 14 11  5]\n",
            " [12 17 12  8]\n",
            " [15 18 14  9]]\n"
          ]
        }
      ]
    },
    {
      "cell_type": "code",
      "source": [
        "print(len(TwoDArray))"
      ],
      "metadata": {
        "colab": {
          "base_uri": "https://localhost:8080/"
        },
        "id": "sS1j4u3zLPfS",
        "outputId": "648ececb-2b5c-4421-a81f-49f3700e3d10"
      },
      "execution_count": 5,
      "outputs": [
        {
          "output_type": "stream",
          "name": "stdout",
          "text": [
            "4\n"
          ]
        }
      ]
    },
    {
      "cell_type": "code",
      "source": [
        "AnotherTwoDArray = np.append(TwoDArray , [[1,2,3,4]] , axis = 0)\n",
        "print(AnotherTwoDArray)\n",
        "print(len(AnotherTwoDArray))\n",
        "print(len(AnotherTwoDArray[0]))"
      ],
      "metadata": {
        "colab": {
          "base_uri": "https://localhost:8080/"
        },
        "id": "463UuAYSLW7D",
        "outputId": "cdd390c2-57c8-4c64-e53a-0474f2dabcbe"
      },
      "execution_count": 6,
      "outputs": [
        {
          "output_type": "stream",
          "name": "stdout",
          "text": [
            "[[11 15 10  6]\n",
            " [10 14 11  5]\n",
            " [12 17 12  8]\n",
            " [15 18 14  9]\n",
            " [ 1  2  3  4]]\n",
            "5\n",
            "4\n"
          ]
        }
      ]
    },
    {
      "cell_type": "markdown",
      "source": [
        "Access Element"
      ],
      "metadata": {
        "id": "NSJw20LjL8Y0"
      }
    },
    {
      "cell_type": "code",
      "source": [
        "def accessElements(array,rowIndex, colIndex):\n",
        "  if rowIndex >= len(array) and colIndex >= len(array[0]):\n",
        "    print(\"Incorrect Index\")\n",
        "  else:\n",
        "    print(array[rowIndex][colIndex])\n",
        "\n",
        "\n",
        "\n",
        "accessElements(AnotherTwoDArray,1,2)"
      ],
      "metadata": {
        "colab": {
          "base_uri": "https://localhost:8080/"
        },
        "id": "NaxuJpI1Lz6z",
        "outputId": "6a9722f3-d3ef-4277-de70-982d40ef97b0"
      },
      "execution_count": 7,
      "outputs": [
        {
          "output_type": "stream",
          "name": "stdout",
          "text": [
            "11\n"
          ]
        }
      ]
    },
    {
      "cell_type": "markdown",
      "source": [
        "Traverse the complete Array"
      ],
      "metadata": {
        "id": "q5IsB720OspO"
      }
    },
    {
      "cell_type": "code",
      "source": [
        "def traverseTDAray(array):\n",
        "  for i in range (len(array)):\n",
        "    for j in range (len(array[0])):\n",
        "      print(array[i][j])\n",
        "\n",
        "traverseTDAray(TwoDArray)"
      ],
      "metadata": {
        "colab": {
          "base_uri": "https://localhost:8080/"
        },
        "id": "CWNTEUyWMiSZ",
        "outputId": "4142b988-a775-4362-d1b7-4baa3aa99329"
      },
      "execution_count": 9,
      "outputs": [
        {
          "output_type": "stream",
          "name": "stdout",
          "text": [
            "11\n",
            "15\n",
            "10\n",
            "6\n",
            "10\n",
            "14\n",
            "11\n",
            "5\n",
            "12\n",
            "17\n",
            "12\n",
            "8\n",
            "15\n",
            "18\n",
            "14\n",
            "9\n"
          ]
        }
      ]
    },
    {
      "cell_type": "markdown",
      "source": [
        "Search in TWo Dimensional Array"
      ],
      "metadata": {
        "id": "UJfKlUAJOzgU"
      }
    },
    {
      "cell_type": "code",
      "source": [
        "def SearchTDArray(array,value):\n",
        "  for i in range(len(array)):\n",
        "    for j in range(len(array[0])):\n",
        "      if array[i][j] == value:\n",
        "        return 'The value is located index '+str(i)+\" \"+str(j)\n",
        "  return 'The element not found'\n",
        "\n",
        "print(SearchTDArray(TwoDArray,12))"
      ],
      "metadata": {
        "colab": {
          "base_uri": "https://localhost:8080/"
        },
        "id": "aQKCxniFM1_z",
        "outputId": "c0514851-5290-465e-9250-c5e99ffc5ef3"
      },
      "execution_count": 11,
      "outputs": [
        {
          "output_type": "stream",
          "name": "stdout",
          "text": [
            "The value is located index 2 0\n"
          ]
        }
      ]
    },
    {
      "cell_type": "markdown",
      "source": [
        "Deletion in Two Dimensional Array"
      ],
      "metadata": {
        "id": "YW6visLsOyV9"
      }
    },
    {
      "cell_type": "code",
      "source": [
        "newTwoDArray = np.delete(TwoDArray , 1 , axis=1)\n",
        "print(newTwoDArray)"
      ],
      "metadata": {
        "colab": {
          "base_uri": "https://localhost:8080/"
        },
        "id": "dt8ZoQqYN2RK",
        "outputId": "c723e01b-7ba6-43ff-aa55-e2cd2485aaf0"
      },
      "execution_count": 12,
      "outputs": [
        {
          "output_type": "stream",
          "name": "stdout",
          "text": [
            "[[11 10  6]\n",
            " [10 11  5]\n",
            " [12 12  8]\n",
            " [15 14  9]]\n"
          ]
        }
      ]
    }
  ]
}