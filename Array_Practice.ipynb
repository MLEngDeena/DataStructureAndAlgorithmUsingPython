{
  "nbformat": 4,
  "nbformat_minor": 0,
  "metadata": {
    "colab": {
      "name": "Array Practice.ipynb",
      "provenance": [],
      "authorship_tag": "ABX9TyNZP71ghRKZjhRGs3KPBMxz",
      "include_colab_link": true
    },
    "kernelspec": {
      "name": "python3",
      "display_name": "Python 3"
    },
    "language_info": {
      "name": "python"
    }
  },
  "cells": [
    {
      "cell_type": "markdown",
      "metadata": {
        "id": "view-in-github",
        "colab_type": "text"
      },
      "source": [
        "<a href=\"https://colab.research.google.com/github/MLEngDeena/DataStructureAndAlgorithmUsingPython/blob/main/Array_Practice.ipynb\" target=\"_parent\"><img src=\"https://colab.research.google.com/assets/colab-badge.svg\" alt=\"Open In Colab\"/></a>"
      ]
    },
    {
      "cell_type": "markdown",
      "source": [
        "All Basic operation on Array Expalined here"
      ],
      "metadata": {
        "id": "CT8GYKjKynWb"
      }
    },
    {
      "cell_type": "code",
      "source": [
        "from array import *\n",
        "my_array = array('i',[1,2,3,4,5]) #Here 'i' is typecode for Signed int type of array\n",
        "\n",
        "for i in my_array:\n",
        "  print (i)"
      ],
      "metadata": {
        "colab": {
          "base_uri": "https://localhost:8080/"
        },
        "id": "pzdCJs8iysC7",
        "outputId": "68ca21ff-2009-411c-edb6-c5f803ec8109"
      },
      "execution_count": 1,
      "outputs": [
        {
          "output_type": "stream",
          "name": "stdout",
          "text": [
            "1\n",
            "2\n",
            "3\n",
            "4\n",
            "5\n"
          ]
        }
      ]
    },
    {
      "cell_type": "code",
      "source": [
        "print(my_array[3]) #access individual element\n",
        "my_array.append(6) # 6 will be added in the end of array\n",
        "print(my_array)"
      ],
      "metadata": {
        "colab": {
          "base_uri": "https://localhost:8080/"
        },
        "id": "FnxF5jfVzEjQ",
        "outputId": "ec68355a-592d-43ff-97a7-1fac63eccc36"
      },
      "execution_count": 2,
      "outputs": [
        {
          "output_type": "stream",
          "name": "stdout",
          "text": [
            "4\n",
            "array('i', [1, 2, 3, 4, 5, 6])\n"
          ]
        }
      ]
    },
    {
      "cell_type": "code",
      "source": [
        "my_array.insert(3,11) # At index 3 , 11 will be inserted\n",
        "print(my_array)"
      ],
      "metadata": {
        "colab": {
          "base_uri": "https://localhost:8080/"
        },
        "id": "fjwZdkSjzmu9",
        "outputId": "11b97281-c92a-44f5-b98b-92bafd0f065a"
      },
      "execution_count": 3,
      "outputs": [
        {
          "output_type": "stream",
          "name": "stdout",
          "text": [
            "array('i', [1, 2, 3, 11, 4, 5, 6])\n"
          ]
        }
      ]
    },
    {
      "cell_type": "code",
      "source": [
        "my_array1 = array('i',[10,12,13])\n",
        "my_array.extend(my_array1) #Extend python array using extend methodj\n",
        "print(my_array)"
      ],
      "metadata": {
        "colab": {
          "base_uri": "https://localhost:8080/"
        },
        "id": "KbtthU7pz138",
        "outputId": "d8b1050c-56e7-40bd-f537-0d81a01c64b7"
      },
      "execution_count": 4,
      "outputs": [
        {
          "output_type": "stream",
          "name": "stdout",
          "text": [
            "array('i', [1, 2, 3, 11, 4, 5, 6, 10, 12, 13])\n"
          ]
        }
      ]
    },
    {
      "cell_type": "code",
      "source": [
        "#Add items from list into array using fromlist() method\n",
        "tempList = [20,21,22]\n",
        "my_array.fromlist(tempList)\n",
        "print(my_array)"
      ],
      "metadata": {
        "colab": {
          "base_uri": "https://localhost:8080/"
        },
        "id": "3w4PdmNf0WRt",
        "outputId": "66134aa9-b85c-4c40-b574-0adad628d7c1"
      },
      "execution_count": 5,
      "outputs": [
        {
          "output_type": "stream",
          "name": "stdout",
          "text": [
            "array('i', [1, 2, 3, 11, 4, 5, 6, 10, 12, 13, 20, 21, 22])\n"
          ]
        }
      ]
    },
    {
      "cell_type": "code",
      "source": [
        "#Remove any array element using remove() method\n",
        "my_array.remove(11)\n",
        "print(my_array)\n",
        "\n",
        "#Remove last array element using pop() method\n",
        "my_array.pop()\n",
        "print(my_array)"
      ],
      "metadata": {
        "colab": {
          "base_uri": "https://localhost:8080/"
        },
        "id": "OFWceHvm0nKj",
        "outputId": "fe627efd-07b1-4acc-b847-6d98ee84769f"
      },
      "execution_count": 6,
      "outputs": [
        {
          "output_type": "stream",
          "name": "stdout",
          "text": [
            "array('i', [1, 2, 3, 4, 5, 6, 10, 12, 13, 20, 21, 22])\n",
            "array('i', [1, 2, 3, 4, 5, 6, 10, 12, 13, 20, 21])\n"
          ]
        }
      ]
    },
    {
      "cell_type": "code",
      "source": [
        "#Fetch any element index through its index() method\n",
        "print(my_array.index(21))"
      ],
      "metadata": {
        "colab": {
          "base_uri": "https://localhost:8080/"
        },
        "id": "D2R3Wawx1F9V",
        "outputId": "e4a821c6-9a18-47d2-ca34-56424989039d"
      },
      "execution_count": 8,
      "outputs": [
        {
          "output_type": "stream",
          "name": "stdout",
          "text": [
            "10\n"
          ]
        }
      ]
    },
    {
      "cell_type": "code",
      "source": [
        "#Reverse the array\n",
        "my_array.reverse()\n",
        "print(my_array)"
      ],
      "metadata": {
        "colab": {
          "base_uri": "https://localhost:8080/"
        },
        "id": "tBYlWRdF1Sut",
        "outputId": "f4e4586f-5423-4f94-9e3f-98eceab5d33a"
      },
      "execution_count": 9,
      "outputs": [
        {
          "output_type": "stream",
          "name": "stdout",
          "text": [
            "array('i', [21, 20, 13, 12, 10, 6, 5, 4, 3, 2, 1])\n"
          ]
        }
      ]
    },
    {
      "cell_type": "code",
      "source": [
        "#Get array buffer information\n",
        "print(my_array.buffer_info())"
      ],
      "metadata": {
        "colab": {
          "base_uri": "https://localhost:8080/"
        },
        "id": "Jice7mu91jwG",
        "outputId": "229098bd-35c0-4a4e-cbb5-c7faf5038608"
      },
      "execution_count": 10,
      "outputs": [
        {
          "output_type": "stream",
          "name": "stdout",
          "text": [
            "(140094518992624, 11)\n"
          ]
        }
      ]
    },
    {
      "cell_type": "code",
      "source": [
        "#check the number of occurences of an element \n",
        "my_array.append(10)\n",
        "print(my_array.count(10))\n",
        "print(my_array)"
      ],
      "metadata": {
        "colab": {
          "base_uri": "https://localhost:8080/"
        },
        "id": "yBDexmQv1q1V",
        "outputId": "e9357585-9c9b-4f7b-f935-6480aa38d735"
      },
      "execution_count": 12,
      "outputs": [
        {
          "output_type": "stream",
          "name": "stdout",
          "text": [
            "2\n",
            "array('i', [21, 20, 13, 12, 10, 6, 5, 4, 3, 2, 1, 11, 10])\n"
          ]
        }
      ]
    },
    {
      "cell_type": "code",
      "source": [
        "#convert array to string using tostring() method\n",
        "strTemp = my_array.tostring()\n",
        "print(strTemp)\n",
        "ints = array('i')\n",
        "ints.fromstring(strTemp)\n",
        "print(ints)"
      ],
      "metadata": {
        "colab": {
          "base_uri": "https://localhost:8080/"
        },
        "id": "7RTRhpmj24IN",
        "outputId": "a8a63c67-8915-4ac9-9c56-c010e0552b29"
      },
      "execution_count": 13,
      "outputs": [
        {
          "output_type": "stream",
          "name": "stdout",
          "text": [
            "b'\\x15\\x00\\x00\\x00\\x14\\x00\\x00\\x00\\r\\x00\\x00\\x00\\x0c\\x00\\x00\\x00\\n\\x00\\x00\\x00\\x06\\x00\\x00\\x00\\x05\\x00\\x00\\x00\\x04\\x00\\x00\\x00\\x03\\x00\\x00\\x00\\x02\\x00\\x00\\x00\\x01\\x00\\x00\\x00\\x0b\\x00\\x00\\x00\\n\\x00\\x00\\x00'\n",
            "array('i', [21, 20, 13, 12, 10, 6, 5, 4, 3, 2, 1, 11, 10])\n"
          ]
        }
      ]
    },
    {
      "cell_type": "code",
      "source": [
        "#Convert array to a python list \n",
        "print(my_array.tolist())"
      ],
      "metadata": {
        "colab": {
          "base_uri": "https://localhost:8080/"
        },
        "id": "9LntBFBV3UOt",
        "outputId": "71bbd4ae-25e8-47d0-b725-037aeee1035b"
      },
      "execution_count": 14,
      "outputs": [
        {
          "output_type": "stream",
          "name": "stdout",
          "text": [
            "[21, 20, 13, 12, 10, 6, 5, 4, 3, 2, 1, 11, 10]\n"
          ]
        }
      ]
    },
    {
      "cell_type": "code",
      "source": [
        "#Slice elements from array\n",
        "print(my_array[2:6])"
      ],
      "metadata": {
        "colab": {
          "base_uri": "https://localhost:8080/"
        },
        "id": "5Rsti3_o4K8N",
        "outputId": "05120111-079e-41f3-c491-fc3f0c3012b2"
      },
      "execution_count": 15,
      "outputs": [
        {
          "output_type": "stream",
          "name": "stdout",
          "text": [
            "array('i', [13, 12, 10, 6])\n"
          ]
        }
      ]
    },
    {
      "cell_type": "code",
      "source": [
        ""
      ],
      "metadata": {
        "id": "jrQexkRK4vTt"
      },
      "execution_count": null,
      "outputs": []
    }
  ]
}