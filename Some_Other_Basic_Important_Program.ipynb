{
  "nbformat": 4,
  "nbformat_minor": 0,
  "metadata": {
    "colab": {
      "name": "Some Other Basic Important Program.ipynb",
      "provenance": [],
      "authorship_tag": "ABX9TyNu671UKxzGqCnUMUDuiMRw",
      "include_colab_link": true
    },
    "kernelspec": {
      "name": "python3",
      "display_name": "Python 3"
    },
    "language_info": {
      "name": "python"
    }
  },
  "cells": [
    {
      "cell_type": "markdown",
      "metadata": {
        "id": "view-in-github",
        "colab_type": "text"
      },
      "source": [
        "<a href=\"https://colab.research.google.com/github/MLEngDeena/DataStructureAndAlgorithmUsingPython/blob/main/Some_Other_Basic_Important_Program.ipynb\" target=\"_parent\"><img src=\"https://colab.research.google.com/assets/colab-badge.svg\" alt=\"Open In Colab\"/></a>"
      ]
    },
    {
      "cell_type": "markdown",
      "source": [
        "Some Other Basic Important Program\n",
        "\n",
        "\n",
        "\n"
      ],
      "metadata": {
        "id": "MKPMeqrEd-Jv"
      }
    },
    {
      "cell_type": "markdown",
      "source": [
        "Product of Array"
      ],
      "metadata": {
        "id": "IfnH7ym6eDqv"
      }
    },
    {
      "cell_type": "code",
      "source": [
        "def productofarray(arr):\n",
        "  if len(arr) == 0:\n",
        "    return 1\n",
        "  return arr[0] * productofarray(arr[1:])\n",
        "\n",
        "print(productofarray([1,5,7,2]))\n",
        "print(productofarray([6,2,5,0,67,8,3]))"
      ],
      "metadata": {
        "colab": {
          "base_uri": "https://localhost:8080/"
        },
        "id": "xHXF08FZeF7M",
        "outputId": "d44393f4-bf47-4c32-d4d8-6ac6b6553006"
      },
      "execution_count": 1,
      "outputs": [
        {
          "output_type": "stream",
          "name": "stdout",
          "text": [
            "70\n",
            "0\n"
          ]
        }
      ]
    },
    {
      "cell_type": "markdown",
      "source": [
        "Reverse the String"
      ],
      "metadata": {
        "id": "ROFpXfucex2h"
      }
    },
    {
      "cell_type": "code",
      "source": [
        "def reverse(strng):\n",
        "  if len(strng) <=1 :\n",
        "    return strng\n",
        "  return strng[-1] + reverse(strng[0:-1]) #return strng[len(strng)-1] + reverse(strng[0:len(strng)-1]) , This will also work\n",
        "\n",
        "print(reverse('python'))\n",
        "print(reverse('Deena Nath'))"
      ],
      "metadata": {
        "colab": {
          "base_uri": "https://localhost:8080/"
        },
        "id": "gEwPaG4XekZp",
        "outputId": "50444c20-2279-417c-91b5-328424db7775"
      },
      "execution_count": 5,
      "outputs": [
        {
          "output_type": "stream",
          "name": "stdout",
          "text": [
            "nohtyp\n",
            "htaN aneeD\n"
          ]
        }
      ]
    },
    {
      "cell_type": "markdown",
      "source": [
        "Pallindrome"
      ],
      "metadata": {
        "id": "1er9CcBngj7T"
      }
    },
    {
      "cell_type": "code",
      "source": [
        "def isPallin(strng):\n",
        "  if len(strng) == 0:\n",
        "    return True\n",
        "  if strng[0] != strng[len(strng)-1]:\n",
        "    return False\n",
        "  return isPallin(strng[1:-1])\n",
        "\n",
        "print(isPallin('awesome'))\n",
        "print(isPallin('tacocat'))\n",
        "print(isPallin('Tacocat'))"
      ],
      "metadata": {
        "colab": {
          "base_uri": "https://localhost:8080/"
        },
        "id": "MlqcDtwyf0V4",
        "outputId": "6b9c5028-80a3-4ef6-8cb4-5481e56b246f"
      },
      "execution_count": 6,
      "outputs": [
        {
          "output_type": "stream",
          "name": "stdout",
          "text": [
            "False\n",
            "True\n",
            "False\n"
          ]
        }
      ]
    },
    {
      "cell_type": "markdown",
      "source": [
        "Flatten"
      ],
      "metadata": {
        "id": "fHdD45URjFB1"
      }
    },
    {
      "cell_type": "code",
      "source": [
        "def flatten(arr):\n",
        "    resultArr = []\n",
        "    for custItem in arr:\n",
        "        if type(custItem) is list:\n",
        "            resultArr.extend(flatten(custItem))\n",
        "        else: \n",
        "            resultArr.append(custItem)\n",
        "    return resultArr \n",
        "\n",
        "\n",
        "\n",
        "print(flatten([1, 2, 3, [4, 5]])) # [1, 2, 3, 4, 5]\n",
        "print(flatten([1, [2, [3, 4], [[5]]]])) # [1, 2, 3, 4, 5]\n",
        "print(flatten([[1], [2], [3]])) # [1, 2, 3]\n",
        "print(flatten([[[[1], [[[2]]], [[[[[[[3]]]]]]]]]])) # [1, 2, 3]"
      ],
      "metadata": {
        "colab": {
          "base_uri": "https://localhost:8080/"
        },
        "id": "z_gY8Zi7hSpv",
        "outputId": "55ef6750-1148-4ec8-fccd-d5336f14d863"
      },
      "execution_count": 7,
      "outputs": [
        {
          "output_type": "stream",
          "name": "stdout",
          "text": [
            "[1, 2, 3, 4, 5]\n",
            "[1, 2, 3, 4, 5]\n",
            "[1, 2, 3]\n",
            "[1, 2, 3]\n"
          ]
        }
      ]
    },
    {
      "cell_type": "markdown",
      "source": [
        "Capitalize the First Letter"
      ],
      "metadata": {
        "id": "0rqfM5EFlLe-"
      }
    },
    {
      "cell_type": "code",
      "source": [
        "def capitalizeFirst(arr):\n",
        "  result = []\n",
        "  if len(arr) == 0:\n",
        "    return result\n",
        "  result.append(arr[0][0].upper() + arr[0][1:])\n",
        "  return result + capitalizeFirst(arr[1:])\n",
        "\n",
        "print(capitalizeFirst(['deena','aqsa','vaishnavi']))"
      ],
      "metadata": {
        "colab": {
          "base_uri": "https://localhost:8080/"
        },
        "id": "dIT0qSljjUF3",
        "outputId": "f74fca24-e234-492d-ba35-7171a2bc9d82"
      },
      "execution_count": 8,
      "outputs": [
        {
          "output_type": "stream",
          "name": "stdout",
          "text": [
            "['Deena', 'Aqsa', 'Vaishnavi']\n"
          ]
        }
      ]
    },
    {
      "cell_type": "markdown",
      "source": [
        "Capitalize Words"
      ],
      "metadata": {
        "id": "uSY1ZTOrmgf5"
      }
    },
    {
      "cell_type": "code",
      "source": [
        "def capitalizewords(arr):\n",
        "  result = []\n",
        "  if len(arr) == 0:\n",
        "    return result\n",
        "  result.append(arr[0].upper())\n",
        "  return result + capitalizewords(arr[1:])\n",
        "\n",
        "words = ['i' , 'am' , 'learning' , 'Recursion']\n",
        "print(capitalizewords(words))"
      ],
      "metadata": {
        "colab": {
          "base_uri": "https://localhost:8080/"
        },
        "id": "Q2FYhDLhl6aQ",
        "outputId": "2099df83-cbad-40df-a5f9-b362bf4b9834"
      },
      "execution_count": 9,
      "outputs": [
        {
          "output_type": "stream",
          "name": "stdout",
          "text": [
            "['I', 'AM', 'LEARNING', 'RECURSION']\n"
          ]
        }
      ]
    },
    {
      "cell_type": "code",
      "source": [
        ""
      ],
      "metadata": {
        "id": "myLzGV1lnITp"
      },
      "execution_count": null,
      "outputs": []
    }
  ]
}