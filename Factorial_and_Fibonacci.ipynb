{
  "nbformat": 4,
  "nbformat_minor": 0,
  "metadata": {
    "colab": {
      "name": "Factorial and Fibonacci.ipynb",
      "provenance": [],
      "authorship_tag": "ABX9TyM6jmK8F5dlHfzWVljB4ow+",
      "include_colab_link": true
    },
    "kernelspec": {
      "name": "python3",
      "display_name": "Python 3"
    },
    "language_info": {
      "name": "python"
    }
  },
  "cells": [
    {
      "cell_type": "markdown",
      "metadata": {
        "id": "view-in-github",
        "colab_type": "text"
      },
      "source": [
        "<a href=\"https://colab.research.google.com/github/MLEngDeena/DataStructureAndAlgorithmUsingPython/blob/main/Factorial_and_Fibonacci.ipynb\" target=\"_parent\"><img src=\"https://colab.research.google.com/assets/colab-badge.svg\" alt=\"Open In Colab\"/></a>"
      ]
    },
    {
      "cell_type": "markdown",
      "source": [
        "Program of Factorial and Fibonacci Using Python"
      ],
      "metadata": {
        "id": "Cm8eg0-XR1pz"
      }
    },
    {
      "cell_type": "code",
      "source": [
        "def factorial(n):\n",
        "  assert n >= 0 and int(n) == n , 'The number must be positive integer only !'\n",
        "  if n in [0,1]:\n",
        "    return 1\n",
        "  else:\n",
        "    return n * factorial(n-1)"
      ],
      "metadata": {
        "id": "TpAYq1ooR9wj"
      },
      "execution_count": 1,
      "outputs": []
    },
    {
      "cell_type": "code",
      "source": [
        "def fibonacci(n):\n",
        "  assert n >= 0 and int(n) == n , 'Fibonacci number cannot be negative number or non integer'\n",
        "  if n in [0,1]:\n",
        "    return n\n",
        "  else:\n",
        "    return fibonacci(n-1) + fibonacci(n-2)"
      ],
      "metadata": {
        "id": "v4_54lZdSS8v"
      },
      "execution_count": 4,
      "outputs": []
    },
    {
      "cell_type": "code",
      "source": [
        "print(\"The factorial of 5 is : \", factorial(5))\n",
        "print(\"The fibonacci number of 7 is : \", fibonacci(7))"
      ],
      "metadata": {
        "colab": {
          "base_uri": "https://localhost:8080/"
        },
        "id": "Wuv4AD7WSxsK",
        "outputId": "58a63704-4b72-4264-c44a-03e1a68707b8"
      },
      "execution_count": 5,
      "outputs": [
        {
          "output_type": "stream",
          "name": "stdout",
          "text": [
            "The factorial of 5 is :  120\n",
            "The fibonacci number of 7 is :  13\n"
          ]
        }
      ]
    },
    {
      "cell_type": "code",
      "source": [
        ""
      ],
      "metadata": {
        "id": "qJfixe-jTEDh"
      },
      "execution_count": null,
      "outputs": []
    }
  ]
}