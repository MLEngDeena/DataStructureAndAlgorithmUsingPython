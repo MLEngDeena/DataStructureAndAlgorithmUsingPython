{
  "nbformat": 4,
  "nbformat_minor": 0,
  "metadata": {
    "colab": {
      "name": "Program of SumOfDigit , Power , GCD and Decimal to Binary Conversion.ipynb",
      "provenance": [],
      "authorship_tag": "ABX9TyMH0Tu9Mex3AxrlgVqvd9Qf",
      "include_colab_link": true
    },
    "kernelspec": {
      "name": "python3",
      "display_name": "Python 3"
    },
    "language_info": {
      "name": "python"
    }
  },
  "cells": [
    {
      "cell_type": "markdown",
      "metadata": {
        "id": "view-in-github",
        "colab_type": "text"
      },
      "source": [
        "<a href=\"https://colab.research.google.com/github/MLEngDeena/DataStructureAndAlgorithmUsingPython/blob/main/Program_of_SumOfDigit_%2C_Power_%2C_GCD_and_Decimal_to_Binary_Conversion.ipynb\" target=\"_parent\"><img src=\"https://colab.research.google.com/assets/colab-badge.svg\" alt=\"Open In Colab\"/></a>"
      ]
    },
    {
      "cell_type": "markdown",
      "source": [
        "Program of SumOfDigit , Power , GCD and Decimal to Binary Conversion"
      ],
      "metadata": {
        "id": "bzIKHywtY4Si"
      }
    },
    {
      "cell_type": "markdown",
      "source": [
        "Sum Of Digit Program"
      ],
      "metadata": {
        "id": "UJcDSHWsZCeU"
      }
    },
    {
      "cell_type": "code",
      "source": [
        "def SumOfDigit(n):\n",
        "  assert n>=0 and int(n) == n , 'The number has to be a positive integer only'\n",
        "  if n == 0:\n",
        "    return 0\n",
        "  else:\n",
        "    return int(n%10) + SumOfDigit(int(n/10))"
      ],
      "metadata": {
        "id": "RLDg0M4YZGv6"
      },
      "execution_count": 9,
      "outputs": []
    },
    {
      "cell_type": "markdown",
      "source": [
        "Find the power of a number"
      ],
      "metadata": {
        "id": "QeucT8Vcbqtk"
      }
    },
    {
      "cell_type": "code",
      "source": [
        "def power(base , exp):\n",
        "  if exp == 0:\n",
        "    return 1\n",
        "  if exp == 1:\n",
        "    return (base)\n",
        "  if(exp != 1):\n",
        "    return (base*power(base,exp-1))"
      ],
      "metadata": {
        "id": "UbN0Z8OdZcWI"
      },
      "execution_count": 10,
      "outputs": []
    },
    {
      "cell_type": "markdown",
      "source": [
        "Find the GCD of Two number"
      ],
      "metadata": {
        "id": "_PPV9NYobwp0"
      }
    },
    { 
      "cell_type": "code",
      "source": [
        "def gcd(a,b):\n",
        "  assert int(a) == a and int(b) == b , 'The number must be interger only'\n",
        "  if a<0:\n",
        "    a = -1*a\n",
        "  if b<0:\n",
        "    b = -1*b\n",
        "  if b == 0:\n",
        "    return a\n",
        "  else:\n",
        "    return gcd(b, a%b)"
      ],
      "metadata": {
        "id": "MuKzGhJTZ6DS"
      },
      "execution_count": 11,
      "outputs": []
    },
    {
      "cell_type": "markdown",
      "source": [
        "Conversion of Decimal to Binary"
      ],
      "metadata": {
        "id": "6Km7EW7zb0RP"
      }
    },
    {
      "cell_type": "code",
      "source": [
        "def DecToBin(n):\n",
        "  if n == 0 : \n",
        "    return 0\n",
        "  else:\n",
        "    return n%2 + 10*DecToBin(int(n/2))\n",
        "    "
      ],
      "metadata": {
        "id": "gdnlJIW5aXO5"
      },
      "execution_count": 12,
      "outputs": []
    },
    {
      "cell_type": "markdown",
      "source": [
        "Execution of Above all Program"
      ],
      "metadata": {
        "id": "y0BFR1Rvb5nz"
      }
    },
    {
      "cell_type": "code",
      "source": [
        "print(\"The sum of individual digit of 78943 is \" , SumOfDigit(78943))\n",
        "print(\"2 to the power 6 is \" , power(2,6))\n",
        "print(\"The GCD of 24 and 64 is \" , gcd(24,64))\n",
        "print(\"The binary representation of 69 is \", DecToBin(69))"
      ],
      "metadata": {
        "colab": {
          "base_uri": "https://localhost:8080/"
        },
        "id": "VJghiL81auXZ",
        "outputId": "16e90770-3f3d-4e3f-d08d-dd65c3eed7de"
      },
      "execution_count": 13,
      "outputs": [
        {
          "output_type": "stream",
          "name": "stdout",
          "text": [
            "The sum of individual digit of 78943 is  31\n",
            "2 to the power 6 is  64\n",
            "The GCD of 24 and 64 is  8\n",
            "The binary representation of 69 is  1000101\n"
          ]
        }
      ]
    },
    {
      "cell_type": "code",
      "source": [
        ""
      ],
      "metadata": {
        "id": "GFsVkDzsbXha"
      },
      "execution_count": 13,
      "outputs": []
    }
  ]
}
